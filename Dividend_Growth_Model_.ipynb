{
  "nbformat": 4,
  "nbformat_minor": 0,
  "metadata": {
    "colab": {
      "provenance": [],
      "authorship_tag": "ABX9TyPvKrvH6G06gWu8ebhd3TXB",
      "include_colab_link": true
    },
    "kernelspec": {
      "name": "python3",
      "display_name": "Python 3"
    },
    "language_info": {
      "name": "python"
    }
  },
  "cells": [
    {
      "cell_type": "markdown",
      "metadata": {
        "id": "view-in-github",
        "colab_type": "text"
      },
      "source": [
        "<a href=\"https://colab.research.google.com/github/Ridhtang54/python-for-finance/blob/main/Dividend_Growth_Model_.ipynb\" target=\"_parent\"><img src=\"https://colab.research.google.com/assets/colab-badge.svg\" alt=\"Open In Colab\"/></a>"
      ]
    },
    {
      "cell_type": "code",
      "execution_count": 1,
      "metadata": {
        "colab": {
          "base_uri": "https://localhost:8080/"
        },
        "id": "NwSG82mpUNdB",
        "outputId": "6bd639b8-c88d-4958-f7fa-d3e20ba47e42"
      },
      "outputs": [
        {
          "output_type": "execute_result",
          "data": {
            "text/plain": [
              "2786.4104975905134"
            ]
          },
          "metadata": {},
          "execution_count": 1
        }
      ],
      "source": [
        "# Python code for a Two-Stage Growth Model DCF valuation\n",
        "\n",
        "# Import necessary libraries\n",
        "import numpy as np\n",
        "\n",
        "# Input parameters\n",
        "initial_FCF = 100  # Initial Free Cash Flow in million dollars\n",
        "g1 = 0.10  # Growth rate during high growth phase (10%)\n",
        "g2 = 0.03  # Growth rate during stable phase (3%)\n",
        "discount_rate = 0.08  # Discount rate (WACC or Cost of Equity) (8%)\n",
        "high_growth_years = 5  # Number of years of high growth\n",
        "\n",
        "# Function to calculate the present value of free cash flows during the high growth period\n",
        "def pv_high_growth_fcf(initial_FCF, g1, discount_rate, high_growth_years):\n",
        "    fcf_values = []\n",
        "    for t in range(1, high_growth_years + 1):\n",
        "        fcf = initial_FCF * (1 + g1) ** t\n",
        "        pv_fcf = fcf / (1 + discount_rate) ** t\n",
        "        fcf_values.append(pv_fcf)\n",
        "    return np.sum(fcf_values)\n",
        "\n",
        "# Function to calculate the terminal value at the end of the high growth period\n",
        "def terminal_value(initial_FCF, g1, g2, discount_rate, high_growth_years):\n",
        "    fcf_at_terminal = initial_FCF * (1 + g1) ** high_growth_years * (1 + g2)\n",
        "    terminal_val = fcf_at_terminal / (discount_rate - g2)\n",
        "    pv_terminal_value = terminal_val / (1 + discount_rate) ** high_growth_years\n",
        "    return pv_terminal_value\n",
        "\n",
        "# Calculating the present value of high growth FCFs and terminal value\n",
        "pv_high_growth = pv_high_growth_fcf(initial_FCF, g1, discount_rate, high_growth_years)\n",
        "pv_terminal = terminal_value(initial_FCF, g1, g2, discount_rate, high_growth_years)\n",
        "\n",
        "# Total present value (enterprise value)\n",
        "enterprise_value = pv_high_growth + pv_terminal\n",
        "\n",
        "enterprise_value\n"
      ]
    },
    {
      "cell_type": "code",
      "source": [
        "# Python code to calculate the intrinsic value of the equity share using the two-stage Dividend Discount Model\n",
        "\n",
        "# Input parameters\n",
        "D0 = 2.00  # Current dividend in Rs.\n",
        "g1 = 0.20  # High growth rate (20%)\n",
        "g2 = 0.10  # Stable growth rate (10%)\n",
        "r = 0.15   # Required rate of return (15%)\n",
        "high_growth_years = 6  # Number of years of high growth\n",
        "\n",
        "# Step 1: Calculate the dividends during the high-growth phase\n",
        "dividends = []\n",
        "for t in range(1, high_growth_years + 1):\n",
        "    dividend = D0 * (1 + g1) ** t\n",
        "    dividends.append(dividend)\n",
        "\n",
        "# Step 2: Calculate the terminal value at the end of year 6 (using the Gordon Growth Model)\n",
        "D7 = dividends[-1] * (1 + g2)  # Dividend in year 7 (first year of stable growth)\n",
        "terminal_value = D7 / (r - g2)\n",
        "\n",
        "# Step 3: Discount the dividends and terminal value back to the present\n",
        "pv_dividends = sum([dividends[t-1] / (1 + r) ** t for t in range(1, high_growth_years + 1)])\n",
        "pv_terminal_value = terminal_value / (1 + r) ** high_growth_years\n",
        "\n",
        "# Total intrinsic value\n",
        "intrinsic_value = pv_dividends + pv_terminal_value\n",
        "intrinsic_value\n"
      ],
      "metadata": {
        "colab": {
          "base_uri": "https://localhost:8080/"
        },
        "id": "QE4rl-3AXAn_",
        "outputId": "12fbdd14-a7e6-4c37-f1ea-1d01a288dc42"
      },
      "execution_count": 2,
      "outputs": [
        {
          "output_type": "execute_result",
          "data": {
            "text/plain": [
              "70.7649421418343"
            ]
          },
          "metadata": {},
          "execution_count": 2
        }
      ]
    },
    {
      "cell_type": "code",
      "source": [
        "# Three-Stage Dividend Growth Model\n",
        "def present_value(dividend, rate_of_return, time):\n",
        "    return dividend / ((1 + rate_of_return) ** time)\n",
        "\n",
        "def terminal_value(dividend, growth_rate, rate_of_return):\n",
        "    return dividend / (rate_of_return - growth_rate)\n",
        "\n",
        "def three_stage_ddm(D0, g1, g2, r, T_high, T_transition, transition_growth_rates):\n",
        "    # High Growth Phase\n",
        "    dividends_high = []\n",
        "    for t in range(1, T_high + 1):\n",
        "        Dt = D0 * (1 + g1) ** t\n",
        "        dividends_high.append(Dt)\n",
        "\n",
        "    # Transition Phase\n",
        "    dividends_transition = []\n",
        "    for t in range(1, T_transition + 1):\n",
        "        Dt = dividends_high[-1] * (1 + transition_growth_rates[t-1])\n",
        "        dividends_transition.append(Dt)\n",
        "\n",
        "    # Terminal Value (Stable Growth Phase)\n",
        "    D_last = dividends_transition[-1] * (1 + g2)\n",
        "    TV = terminal_value(D_last, g2, r)\n",
        "\n",
        "    # Discounting Dividends from High Growth Phase\n",
        "    PV_high = sum([present_value(Dt, r, t) for t, Dt in enumerate(dividends_high, 1)])\n",
        "\n",
        "    # Discounting Dividends from Transition Phase\n",
        "    PV_transition = sum([present_value(Dt, r, t + T_high) for t, Dt in enumerate(dividends_transition, 1)])\n",
        "\n",
        "    # Discounting Terminal Value\n",
        "    PV_terminal = present_value(TV, r, T_high + T_transition)\n",
        "\n",
        "    # Total Intrinsic Value\n",
        "    intrinsic_value = PV_high + PV_transition + PV_terminal\n",
        "\n",
        "    return intrinsic_value, dividends_high, dividends_transition, TV\n",
        "\n",
        "# Parameters\n",
        "D0 = 2.00  # Initial dividend in Rs\n",
        "g1 = 0.20  # High growth rate (20%)\n",
        "g2 = 0.10  # Stable growth rate (10%)\n",
        "r = 0.15   # Required rate of return (15%)\n",
        "T_high = 3  # Duration of high growth phase in years\n",
        "T_transition = 3  # Duration of transition phase in years\n",
        "transition_growth_rates = [0.1667, 0.1333, 0.10]  # Growth rates in the transition phase\n",
        "\n",
        "# Calculate intrinsic value\n",
        "intrinsic_value, dividends_high, dividends_transition, terminal_value = three_stage_ddm(\n",
        "    D0, g1, g2, r, T_high, T_transition, transition_growth_rates)\n",
        "\n",
        "# Output\n",
        "print(\"Intrinsic Value of the Stock: Rs\", round(intrinsic_value, 2))\n",
        "print(\"Dividends during High Growth Phase:\", [round(D, 2) for D in dividends_high])\n",
        "print(\"Dividends during Transition Phase:\", [round(D, 2) for D in dividends_transition])\n",
        "print(\"Terminal Value at End of Transition Phase: Rs\", round(terminal_value, 2))\n"
      ],
      "metadata": {
        "colab": {
          "base_uri": "https://localhost:8080/"
        },
        "id": "eLEOa6jmYvQX",
        "outputId": "0f390f46-db6b-4714-8e6a-43536529d158"
      },
      "execution_count": 3,
      "outputs": [
        {
          "output_type": "stream",
          "name": "stdout",
          "text": [
            "Intrinsic Value of the Stock: Rs 48.59\n",
            "Dividends during High Growth Phase: [2.4, 2.88, 3.46]\n",
            "Dividends during Transition Phase: [4.03, 3.92, 3.8]\n",
            "Terminal Value at End of Transition Phase: Rs 83.64\n"
          ]
        }
      ]
    }
  ]
}